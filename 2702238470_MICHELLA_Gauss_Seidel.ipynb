{
  "nbformat": 4,
  "nbformat_minor": 0,
  "metadata": {
    "colab": {
      "provenance": [],
      "authorship_tag": "ABX9TyO7EDYeANmq0aW3vIZ5uoQb",
      "include_colab_link": true
    },
    "kernelspec": {
      "name": "python3",
      "display_name": "Python 3"
    },
    "language_info": {
      "name": "python"
    }
  },
  "cells": [
    {
      "cell_type": "markdown",
      "metadata": {
        "id": "view-in-github",
        "colab_type": "text"
      },
      "source": [
        "<a href=\"https://colab.research.google.com/github/michellaanjani/google-colab-LAB/blob/main/2702238470_MICHELLA_Gauss_Seidel.ipynb\" target=\"_parent\"><img src=\"https://colab.research.google.com/assets/colab-badge.svg\" alt=\"Open In Colab\"/></a>"
      ]
    },
    {
      "cell_type": "code",
      "execution_count": null,
      "metadata": {
        "id": "SW_pSwTDRMTZ",
        "colab": {
          "base_uri": "https://localhost:8080/"
        },
        "outputId": "58e2b46c-ad89-4700-afb2-4b32643860b1"
      },
      "outputs": [
        {
          "output_type": "stream",
          "name": "stdout",
          "text": [
            "Matrix is diagonaly dominan\n"
          ]
        }
      ],
      "source": [
        "import numpy as np\n",
        "a = [[8,3,-3],[-2,-8,5],[3,5,10]]\n",
        "\n",
        "#find diagonal koefisien\n",
        "diag = np.diag(np.abs(a))\n",
        "\n",
        "#find row sum without diagonal\n",
        "off_diag = np.sum(np.abs(a),axis = 1)-diag\n",
        "\n",
        "if np.all(diag > off_diag):\n",
        "  print (\"Matrix is diagonaly dominan\")\n",
        "else :\n",
        "  print (\"NOT matrix diagonaly dominan\")\n"
      ]
    },
    {
      "cell_type": "code",
      "source": [
        "x1 = 0\n",
        "x2 = 0\n",
        "x3 = 0\n",
        "\n",
        "epsilon = 0.01\n",
        "coverged = False\n",
        "x_old = np.array([x1,x2,x3])"
      ],
      "metadata": {
        "id": "EXPOJtJcUoFk"
      },
      "execution_count": null,
      "outputs": []
    },
    {
      "cell_type": "code",
      "source": [
        "print(\"Iteration result: \")\n",
        "print(\"k , x1, x2, x3 \")\n",
        "\n",
        "for k in range (1,50):\n",
        "  x1 = (14-3*x2+3*x3)/8\n",
        "  x2 = (5+2*x1-5*x3)/(-8)\n",
        "  x3 = (-8-3*x1-5*x2)/(10)\n",
        "  x = np.array([x1,x2,x3])\n",
        "\n",
        "  #check if it smaller then threeholld\n",
        "  dx = np.sqrt(np.dot(x-x_old,x-x_old))\n",
        "\n",
        "  print(\"%d, %.4f ,%.4f,%.4f\" %(k, x1, x2, x3))\n",
        "  if (dx < epsilon):\n",
        "    coverged = True\n",
        "    print('coverged!')\n",
        "    break\n",
        "\n",
        "  x_old = x\n",
        "\n",
        "if not coverged:\n",
        "  print(\"Not coverged please increse the number of # iteration\")\n",
        "\n"
      ],
      "metadata": {
        "colab": {
          "base_uri": "https://localhost:8080/"
        },
        "id": "prCE0-kPVHxU",
        "outputId": "68e10497-7407-45bc-98c3-344df1c20ec5"
      },
      "execution_count": null,
      "outputs": [
        {
          "output_type": "stream",
          "name": "stdout",
          "text": [
            "Iteration result: \n",
            "k , x1, x2, x3 \n",
            "1, 2.0888 ,-1.5534,-0.6499\n",
            "2, 2.0888 ,-1.5534,-0.6499\n",
            "coverged!\n"
          ]
        }
      ]
    }
  ]
}